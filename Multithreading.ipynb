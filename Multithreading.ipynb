{
 "cells": [
  {
   "cell_type": "markdown",
   "metadata": {},
   "source": [
    "                                                    ASSIGNMENT: MULTITHREADING"
   ]
  },
  {
   "cell_type": "markdown",
   "metadata": {},
   "source": [
    "Q1. What is multithreading in python? Why is it used? Name the module used to handle threads in python."
   ]
  },
  {
   "cell_type": "markdown",
   "metadata": {},
   "source": [
    "Multithreading has capebility to run multiple programs in a single core. It enhancing the optimiztion of the system and make the code simplified and faster.we need to import threading module for running such type of opration."
   ]
  },
  {
   "cell_type": "code",
   "execution_count": 88,
   "metadata": {},
   "outputs": [],
   "source": [
    "import threading"
   ]
  },
  {
   "cell_type": "code",
   "execution_count": 89,
   "metadata": {},
   "outputs": [],
   "source": [
    "def test(id):\n",
    "    print(\"program start %d\" %id)"
   ]
  },
  {
   "cell_type": "code",
   "execution_count": 90,
   "metadata": {},
   "outputs": [
    {
     "name": "stdout",
     "output_type": "stream",
     "text": [
      "program start 12\n"
     ]
    }
   ],
   "source": [
    "test(12)"
   ]
  },
  {
   "cell_type": "code",
   "execution_count": 91,
   "metadata": {},
   "outputs": [],
   "source": [
    "#exicution of multithreading\n",
    "\n",
    "thread= [threading.Thread(target=test, args=(i,))for i in range(10)]"
   ]
  },
  {
   "cell_type": "code",
   "execution_count": 92,
   "metadata": {},
   "outputs": [
    {
     "name": "stdout",
     "output_type": "stream",
     "text": [
      "program start 0\n",
      "program start 1\n",
      "program start 2\n",
      "program start 3\n",
      "program start 4\n",
      "program start 5\n",
      "program start 6\n",
      "program start 7\n",
      "program start 8\n",
      "program start 9\n"
     ]
    }
   ],
   "source": [
    "for t in thread:\n",
    " t.start()"
   ]
  },
  {
   "cell_type": "markdown",
   "metadata": {},
   "source": [
    "``````````````````````````````````````````````````````````````````````````````````````````````````````````````````````````````````````````````````````````````````````\n",
    "    ``"
   ]
  },
  {
   "cell_type": "markdown",
   "metadata": {},
   "source": [
    "Q2. Why threading module used? Write the use of the following functions;\n",
    "\n",
    "1.activeCount\n",
    "2.currentThread\n",
    "3.enumerate"
   ]
  },
  {
   "cell_type": "code",
   "execution_count": 93,
   "metadata": {},
   "outputs": [
    {
     "data": {
      "text/plain": [
       "6"
      ]
     },
     "execution_count": 93,
     "metadata": {},
     "output_type": "execute_result"
    }
   ],
   "source": [
    "#active_count\n",
    "\n",
    "#in python activeCount() threading module is used to count the currently active or running threads.\n",
    "threading.active_count()"
   ]
  },
  {
   "cell_type": "code",
   "execution_count": 94,
   "metadata": {},
   "outputs": [
    {
     "data": {
      "text/plain": [
       "<_MainThread(MainThread, started 4092)>"
      ]
     },
     "execution_count": 94,
     "metadata": {},
     "output_type": "execute_result"
    }
   ],
   "source": [
    "#current_thread\n",
    "\n",
    "#it is used to return the current Thread object, which corresponds to the caller's thread of control.\n",
    "threading.current_thread()"
   ]
  },
  {
   "cell_type": "code",
   "execution_count": 95,
   "metadata": {},
   "outputs": [
    {
     "data": {
      "text/plain": [
       "[<_MainThread(MainThread, started 4092)>,\n",
       " <Thread(IOPub, started daemon 13460)>,\n",
       " <Heartbeat(Heartbeat, started daemon 14744)>,\n",
       " <ControlThread(Control, started daemon 5204)>,\n",
       " <HistorySavingThread(IPythonHistorySavingThread, started 13536)>,\n",
       " <ParentPollerWindows(Thread-4, started daemon 8152)>]"
      ]
     },
     "execution_count": 95,
     "metadata": {},
     "output_type": "execute_result"
    }
   ],
   "source": [
    "#enumerate\n",
    "\n",
    "#it is used to return the list of all the Thread class objects which are currently alive.\n",
    "threading.enumerate()"
   ]
  },
  {
   "cell_type": "markdown",
   "metadata": {},
   "source": [
    "~~~~~~~~~~~~~~~~~~~~~~~~~~~~~~~~~~~~~~~~~~~~~~~~~~~~~~~~~~~~~~~~~~~~~~\n"
   ]
  },
  {
   "cell_type": "markdown",
   "metadata": {},
   "source": [
    "Q3. Explain the following functions:\n",
    "\n",
    "1.run\n",
    "2.start\n",
    "3.join\n",
    "4.isAlive()"
   ]
  },
  {
   "cell_type": "code",
   "execution_count": 116,
   "metadata": {},
   "outputs": [],
   "source": [
    "#run()\n",
    "\n",
    "#it is used to represent a thread's activity.\n",
    "import threading"
   ]
  },
  {
   "cell_type": "code",
   "execution_count": 117,
   "metadata": {},
   "outputs": [],
   "source": [
    "def thread1(i):\n",
    "    print(\"program start %d\" %i)"
   ]
  },
  {
   "cell_type": "code",
   "execution_count": 118,
   "metadata": {},
   "outputs": [],
   "source": [
    "thread2= [threading.Thread(target=thread1, args=(i,))  for i in (range(5))]\n"
   ]
  },
  {
   "cell_type": "code",
   "execution_count": 111,
   "metadata": {},
   "outputs": [
    {
     "name": "stdout",
     "output_type": "stream",
     "text": [
      "program start 0\n",
      "program start 1\n",
      "program start 2\n",
      "program start 3\n",
      "program start 4\n"
     ]
    }
   ],
   "source": [
    "for j in thread2:\n",
    " j.run()"
   ]
  },
  {
   "cell_type": "code",
   "execution_count": 106,
   "metadata": {},
   "outputs": [
    {
     "name": "stdout",
     "output_type": "stream",
     "text": [
      "program start 0\n",
      "program start 1\n",
      "program start 2\n",
      "program start 3\n",
      "program start 4\n"
     ]
    }
   ],
   "source": [
    "#same result as run function.\n",
    "\n",
    "for j in thread2:\n",
    " j.start()"
   ]
  },
  {
   "cell_type": "code",
   "execution_count": 123,
   "metadata": {},
   "outputs": [],
   "source": [
    "# it is used to check whether that thread is alive or not, ie, it is still running or not.\n",
    "for j in thread2:\n",
    " j.is_alive()"
   ]
  },
  {
   "cell_type": "markdown",
   "metadata": {},
   "source": [
    "~~~~~~~~~~~~~~~~~~~~~~~~~~~~~~~~~~~~~~~~~~~~~~~~~~~~~~~~~~~~~~~~~~~~~~~~~~~~~~~~~~~~~~~~~~~~~~~~~~~~~~~~~~~~~~~~~~"
   ]
  },
  {
   "cell_type": "markdown",
   "metadata": {},
   "source": [
    "Q4.  Write a python program to create two threads. Thread one must print the list of squares and thread \n",
    "two must print the list of cubes"
   ]
  },
  {
   "cell_type": "code",
   "execution_count": 127,
   "metadata": {},
   "outputs": [],
   "source": [
    "import threading"
   ]
  },
  {
   "cell_type": "code",
   "execution_count": 128,
   "metadata": {},
   "outputs": [],
   "source": [
    "\n",
    "n= [1,2,3,4,5,6]\n",
    "def square(n):\n",
    "    print(f'The square of {n} is {n**2}')\n",
    "\n",
    "def cube(n):\n",
    "    print(f'The cube of {n} is {n**3}')\n",
    "\n",
    "thread_square = [threading.Thread(target=square, args=(n[i],)) for i in range(len(n))]\n",
    "thred_cube = [threading.Thread(target=cube, args=(n[i],)) for i in range(len(n))]"
   ]
  },
  {
   "cell_type": "code",
   "execution_count": 129,
   "metadata": {},
   "outputs": [
    {
     "data": {
      "text/plain": [
       "[<Thread(Thread-158 (cube), initial)>,\n",
       " <Thread(Thread-159 (cube), initial)>,\n",
       " <Thread(Thread-160 (cube), initial)>,\n",
       " <Thread(Thread-161 (cube), initial)>,\n",
       " <Thread(Thread-162 (cube), initial)>,\n",
       " <Thread(Thread-163 (cube), initial)>]"
      ]
     },
     "execution_count": 129,
     "metadata": {},
     "output_type": "execute_result"
    }
   ],
   "source": [
    "\n",
    "thred_cube"
   ]
  },
  {
   "cell_type": "code",
   "execution_count": 130,
   "metadata": {},
   "outputs": [
    {
     "name": "stdout",
     "output_type": "stream",
     "text": [
      "The square of 1 is 1\n",
      "The square of 2 is 4\n",
      "The square of 3 is 9\n",
      "The square of 4 is 16\n",
      "The square of 5 is 25\n",
      "The square of 6 is 36\n",
      "The cube of 1 is 1\n",
      "The cube of 2 is 8\n",
      "The cube of 3 is 27\n",
      "The cube of 4 is 64\n",
      "The cube of 5 is 125\n",
      "The cube of 6 is 216\n"
     ]
    }
   ],
   "source": [
    "for t in thread_square:\n",
    "    t.start()\n",
    "    t.join()\n",
    "for t in thred_cube:\n",
    "    t.start()\n",
    "    t.join()"
   ]
  },
  {
   "cell_type": "markdown",
   "metadata": {},
   "source": [
    "~~~~~~~~~~~~~~~~~~~~~~~~~~~~~~~~~~~~"
   ]
  },
  {
   "cell_type": "markdown",
   "metadata": {},
   "source": [
    "Q5. State advantages and disadvantages of multithreading."
   ]
  },
  {
   "cell_type": "markdown",
   "metadata": {},
   "source": [
    "Advantages\n",
    "\n",
    "- fast execution of code \n",
    "- better optimization of code and program looks simple.\n",
    "- memory consuption is very low\n",
    "\n",
    "Disadvantages\n",
    "\n",
    "- seems difficult while writing the program\n",
    "- often results are unpredictable\n",
    "- Complex debugging and testing processes\n"
   ]
  },
  {
   "cell_type": "markdown",
   "metadata": {},
   "source": [
    "~~~~~~~~~~~~~~~~~~~~~~~~~~~~~~~~~~~~~~~~~~~~~~~~~~~~~~~~~~~~~~~~~~~~~~~"
   ]
  },
  {
   "cell_type": "markdown",
   "metadata": {},
   "source": [
    "Q6. Explain deadlocks and race conditions."
   ]
  },
  {
   "cell_type": "markdown",
   "metadata": {},
   "source": [
    " A race condition occurs when two threads use the same variable at a given time. Deadlock exists when two threads seek one lock simultaneously."
   ]
  },
  {
   "cell_type": "markdown",
   "metadata": {},
   "source": []
  }
 ],
 "metadata": {
  "kernelspec": {
   "display_name": "Python 3",
   "language": "python",
   "name": "python3"
  },
  "language_info": {
   "codemirror_mode": {
    "name": "ipython",
    "version": 3
   },
   "file_extension": ".py",
   "mimetype": "text/x-python",
   "name": "python",
   "nbconvert_exporter": "python",
   "pygments_lexer": "ipython3",
   "version": "3.11.4"
  },
  "orig_nbformat": 4
 },
 "nbformat": 4,
 "nbformat_minor": 2
}
